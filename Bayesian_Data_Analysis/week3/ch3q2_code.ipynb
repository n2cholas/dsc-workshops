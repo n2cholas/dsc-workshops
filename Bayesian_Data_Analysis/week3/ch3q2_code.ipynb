{
 "cells": [
  {
   "cell_type": "markdown",
   "metadata": {
    "id": "-cNpcLI4-A5h"
   },
   "source": [
    "## Chapter 3 Q2 Code\n",
    "\n",
    "<a href=\"https://colab.research.google.com/github/n2cholas/dsc-workshops/blob/master/Bayesian_Data_Analysis/week3/ch3q2_code.ipynb\" target=\"_parent\"><img src=\"https://colab.research.google.com/assets/colab-badge.svg\" alt=\"Open In Colab\"/></a>"
   ]
  },
  {
   "cell_type": "code",
   "execution_count": 1,
   "metadata": {},
   "outputs": [],
   "source": [
    "import matplotlib.pyplot as plt  # for plotting\n",
    "from scipy import stats  # distributions\n",
    "import numpy as np  # array processing"
   ]
  },
  {
   "cell_type": "code",
   "execution_count": 2,
   "metadata": {
    "id": "jXOMxQxC-Hs9"
   },
   "outputs": [],
   "source": [
    "alpha1_pos = stats.beta(295, 308)  # posterior of the proportion of votes for bush pre-debate\r\n",
    "alpha2_pos = stats.beta(289, 333)  # posterior of the proportion of votes for bush post-debate"
   ]
  },
  {
   "cell_type": "code",
   "execution_count": 3,
   "metadata": {
    "id": "626BkUaf-QwV"
   },
   "outputs": [],
   "source": [
    "samples = alpha2_pos.rvs(size=2000) - alpha1_pos.rvs(size=2000)  # shift toward bush after debate (difference)"
   ]
  },
  {
   "cell_type": "code",
   "execution_count": 4,
   "metadata": {
    "colab": {
     "base_uri": "https://localhost:8080/",
     "height": 353
    },
    "id": "VagVOAWK-sYR",
    "outputId": "fe84e6fe-da7c-4242-8b5b-0e19a184cf38"
   },
   "outputs": [
    {
     "data": {
      "text/plain": [
       "(array([ 12.,  43., 167., 333., 492., 460., 303., 151.,  30.,   9.]),\n",
       " array([-0.11203841, -0.09427683, -0.07651525, -0.05875368, -0.0409921 ,\n",
       "        -0.02323052, -0.00546894,  0.01229263,  0.03005421,  0.04781579,\n",
       "         0.06557737]),\n",
       " <BarContainer object of 10 artists>)"
      ]
     },
     "execution_count": 4,
     "metadata": {},
     "output_type": "execute_result"
    },
    {
     "data": {
      "image/png": "[encoded data removed]",
      "text/plain": [
       "<Figure size 432x288 with 1 Axes>"
      ]
     },
     "metadata": {
      "needs_background": "light"
     },
     "output_type": "display_data"
    }
   ],
   "source": [
    "plt.hist(samples)"
   ]
  },
  {
   "cell_type": "code",
   "execution_count": 5,
   "metadata": {
    "id": "TnFcG6udxh7j"
   },
   "outputs": [
    {
     "data": {
      "text/plain": [
       "array([False, False, False, ...,  True, False, False])"
      ]
     },
     "execution_count": 5,
     "metadata": {},
     "output_type": "execute_result"
    }
   ],
   "source": [
    "(samples > 0)  # indicator variable for each sample saying if there is a shift toward or away from bush"
   ]
  },
  {
   "cell_type": "code",
   "execution_count": 6,
   "metadata": {
    "colab": {
     "base_uri": "https://localhost:8080/"
    },
    "id": "sRAzDc8S-xsp",
    "outputId": "97bacebb-6b81-402c-b9b0-8ab26db8df7c"
   },
   "outputs": [
    {
     "data": {
      "text/plain": [
       "0.181"
      ]
     },
     "execution_count": 6,
     "metadata": {},
     "output_type": "execute_result"
    }
   ],
   "source": [
    "(samples > 0).mean()  # we take the averge to find the proportion of them that show a shift toward bush"
   ]
  }
 ],
 "metadata": {
  "colab": {
   "collapsed_sections": [],
   "name": "Ch 3 Soln.ipynb",
   "provenance": []
  },
  "kernelspec": {
   "display_name": "Python 3",
   "language": "python",
   "name": "python3"
  },
  "language_info": {
   "codemirror_mode": {
    "name": "ipython",
    "version": 3
   },
   "file_extension": ".py",
   "mimetype": "text/x-python",
   "name": "python",
   "nbconvert_exporter": "python",
   "pygments_lexer": "ipython3",
   "version": "3.8.5"
  }
 },
 "nbformat": 4,
 "nbformat_minor": 4
}
