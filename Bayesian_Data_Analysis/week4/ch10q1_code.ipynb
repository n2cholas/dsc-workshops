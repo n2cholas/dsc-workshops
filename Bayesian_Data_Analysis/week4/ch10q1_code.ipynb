{
 "cells": [
  {
   "cell_type": "markdown",
   "id": "herbal-camping",
   "metadata": {},
   "source": [
    "## Question 1 (b)\n",
    "\n",
    "<a href=\"https://colab.research.google.com/github/n2cholas/dsc-workshops/blob/master/Bayesian_Data_Analysis/week4/ch10q1_code.ipynb\" target=\"_parent\"><img src=\"https://colab.research.google.com/assets/colab-badge.svg\" alt=\"Open In Colab\"/></a>"
   ]
  },
  {
   "cell_type": "code",
   "execution_count": 1,
   "id": "brazilian-experiment",
   "metadata": {},
   "outputs": [],
   "source": [
    "import numpy as np\n",
    "from scipy import stats"
   ]
  },
  {
   "cell_type": "markdown",
   "id": "experimental-writer",
   "metadata": {},
   "source": [
    "First, let's demonstrate equation (2) from our derivation:"
   ]
  },
  {
   "cell_type": "code",
   "execution_count": 2,
   "id": "military-deployment",
   "metadata": {},
   "outputs": [
    {
     "name": "stdout",
     "output_type": "stream",
     "text": [
      "0.008349295686433618\n",
      "0.008349295686433618\n"
     ]
    }
   ],
   "source": [
    "mu, sigma = 3, 7  # arbitrary parameters for the sake of experimenting\n",
    "\n",
    "std_norm = stats.norm(0, 1)  # standard normal\n",
    "dist = stats.norm(mu, sigma)  # target posterior\n",
    "\n",
    "# .ppf(0.025) is the inverse CDF: gives you the quantile given the p%\n",
    "# .pdf is the PDF function\n",
    "\n",
    "print(std_norm.pdf(std_norm.ppf(0.025)) / sigma)\n",
    "print(dist.pdf(dist.ppf(0.025)))"
   ]
  },
  {
   "cell_type": "markdown",
   "id": "bacterial-wedding",
   "metadata": {},
   "source": [
    "Now, we check our answer using simulation:"
   ]
  },
  {
   "cell_type": "code",
   "execution_count": 3,
   "id": "soviet-facing",
   "metadata": {},
   "outputs": [
    {
     "data": {
      "text/plain": [
       "714"
      ]
     },
     "execution_count": 3,
     "metadata": {},
     "output_type": "execute_result"
    }
   ],
   "source": [
    "mu, sigma = 3, 7  # arbitrary parameters for the sake of experimenting\n",
    "p = 0.025  # by symmetry, our result will be the same for 0.975\n",
    "# p = 0.975\n",
    "\n",
    "c = std_norm.pdf(std_norm.ppf(p))**2\n",
    "sample_size = np.ceil(p*(1-p) / (0.1 **2 * c)).astype(np.int32)\n",
    "sample_size"
   ]
  },
  {
   "cell_type": "code",
   "execution_count": 15,
   "id": "becoming-toddler",
   "metadata": {},
   "outputs": [
    {
     "data": {
      "text/plain": [
       "0.6988298891939639"
      ]
     },
     "execution_count": 15,
     "metadata": {},
     "output_type": "execute_result"
    }
   ],
   "source": [
    "quantiles = []\n",
    "for _ in range(1000):  # do 1000 simulations\n",
    "    arr = dist.rvs(sample_size)\n",
    "    arr.sort()\n",
    "    quantiles.append(arr[int(np.floor(sample_size*p))])\n",
    "\n",
    "np.std(quantiles)  # compute total variability of our estimate"
   ]
  },
  {
   "cell_type": "code",
   "execution_count": 18,
   "id": "constitutional-catch",
   "metadata": {},
   "outputs": [
    {
     "data": {
      "text/plain": [
       "0.6995695297578846"
      ]
     },
     "execution_count": 18,
     "metadata": {},
     "output_type": "execute_result"
    }
   ],
   "source": [
    "0.1 * np.std(dist.rvs(100000))  # compute target total variability"
   ]
  },
  {
   "cell_type": "markdown",
   "id": "tight-threat",
   "metadata": {},
   "source": [
    "We observe that our standard deviations are very close, giving evidence that our solution is correct!"
   ]
  }
 ],
 "metadata": {
  "kernelspec": {
   "display_name": "Python 3",
   "language": "python",
   "name": "python3"
  },
  "language_info": {
   "codemirror_mode": {
    "name": "ipython",
    "version": 3
   },
   "file_extension": ".py",
   "mimetype": "text/x-python",
   "name": "python",
   "nbconvert_exporter": "python",
   "pygments_lexer": "ipython3",
   "version": "3.8.5"
  }
 },
 "nbformat": 4,
 "nbformat_minor": 5
}
